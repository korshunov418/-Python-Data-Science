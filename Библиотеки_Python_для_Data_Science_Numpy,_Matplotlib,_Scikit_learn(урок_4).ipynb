{
  "nbformat": 4,
  "nbformat_minor": 0,
  "metadata": {
    "colab": {
      "name": "Библиотеки Python для Data Science: Numpy, Matplotlib, Scikit-learn(урок 4).ipynb",
      "provenance": [],
      "authorship_tag": "ABX9TyMfp/PkBn/P3CdydeYdbl5o",
      "include_colab_link": true
    },
    "kernelspec": {
      "name": "python3",
      "display_name": "Python 3"
    },
    "language_info": {
      "name": "python"
    }
  },
  "cells": [
    {
      "cell_type": "markdown",
      "metadata": {
        "id": "view-in-github",
        "colab_type": "text"
      },
      "source": [
        "<a href=\"https://colab.research.google.com/github/korshunov418/-Python-Data-Science/blob/4-lesson/%D0%91%D0%B8%D0%B1%D0%BB%D0%B8%D0%BE%D1%82%D0%B5%D0%BA%D0%B8_Python_%D0%B4%D0%BB%D1%8F_Data_Science_Numpy%2C_Matplotlib%2C_Scikit_learn(%D1%83%D1%80%D0%BE%D0%BA_4).ipynb\" target=\"_parent\"><img src=\"https://colab.research.google.com/assets/colab-badge.svg\" alt=\"Open In Colab\"/></a>"
      ]
    },
    {
      "cell_type": "code",
      "metadata": {
        "id": "IDhcK_zxRGMM"
      },
      "source": [
        "Пока пусто"
      ],
      "execution_count": null,
      "outputs": []
    }
  ]
}